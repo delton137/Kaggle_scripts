{
 "cells": [
  {
   "cell_type": "markdown",
   "metadata": {},
   "source": [
    "### Import data"
   ]
  },
  {
   "cell_type": "code",
   "execution_count": 8,
   "metadata": {
    "collapsed": false
   },
   "outputs": [],
   "source": [
    "%matplotlib inline\n",
    "import numpy as np\n",
    "import pickle\n",
    "\n",
    "features = ['id','bedrooms','star_rating','person_capacity','lat','lng','reviews_count']\n",
    "num_features = len(features)\n",
    "\n",
    "(price, data) = pickle.load(open(\"SF_3600_apts.pkl\",\"rb\"))\n",
    "\n",
    "# ( was tested with df = pd.DataFrame(data) df.drop_duplicates() to make sure no duplicates)\n"
   ]
  },
  {
   "cell_type": "markdown",
   "metadata": {},
   "source": [
    "### Try linear regression "
   ]
  },
  {
   "cell_type": "code",
   "execution_count": 9,
   "metadata": {
    "collapsed": false
   },
   "outputs": [
    {
     "name": "stdout",
     "output_type": "stream",
     "text": [
      "scores = [ 0.27374832  0.33804901  0.25357051]\n",
      "avg accuracy = 0.29\n"
     ]
    }
   ],
   "source": [
    "from sklearn import linear_model\n",
    "from sklearn import cross_validation\n",
    "\n",
    "lm = linear_model.LinearRegression()\n",
    "lm = lm.fit( data, price )\n",
    "\n",
    "scores = cross_validation.cross_val_score(lm, data, price)\n",
    "print(\"scores =\",scores)\n",
    "print(\"avg accuracy = %4.2f\" % scores.mean())"
   ]
  },
  {
   "cell_type": "markdown",
   "metadata": {},
   "source": [
    "### Try polynomial features \n",
    "try adding nth order features to investigate bias vs variance trade off "
   ]
  },
  {
   "cell_type": "code",
   "execution_count": 3,
   "metadata": {
    "collapsed": false
   },
   "outputs": [
    {
     "name": "stdout",
     "output_type": "stream",
     "text": [
      "n  accuracy\n",
      "1  0.29\n",
      "2  0.33\n",
      "3  0.02\n",
      "4  0.00\n"
     ]
    }
   ],
   "source": [
    "def degree_n_fit(data, n):\n",
    "    to_concat = [data]\n",
    "    \n",
    "    for i in range(2,n+1):\n",
    "        to_concat += [data**n]\n",
    "    \n",
    "    datapoly = np.concatenate(to_concat, axis=1)\n",
    "\n",
    "    lmp = linear_model.LinearRegression()\n",
    "\n",
    "    scores = cross_validation.cross_val_score(lmp, datapoly, price, cv=3, n_jobs=-1)\n",
    "\n",
    "    return scores.mean()\n",
    "\n",
    "print(\"n  accuracy\")\n",
    "for i in range(1,5):\n",
    "    accuracy = degree_n_fit(data,i)\n",
    "    print(\"%i  %4.2f\" % (i,accuracy))"
   ]
  },
  {
   "cell_type": "markdown",
   "metadata": {},
   "source": [
    "### Try random forest "
   ]
  },
  {
   "cell_type": "code",
   "execution_count": 10,
   "metadata": {
    "collapsed": false
   },
   "outputs": [
    {
     "name": "stdout",
     "output_type": "stream",
     "text": [
      "scores = [ 0.69195877  0.95944778  0.95881498]\n",
      "avg accuracy = 0.87\n"
     ]
    },
    {
     "name": "stderr",
     "output_type": "stream",
     "text": [
      "/home/dan/anaconda3/lib/python3.5/site-packages/matplotlib/figure.py:397: UserWarning: matplotlib is currently using a non-GUI backend, so cannot show the figure\n",
      "  \"matplotlib is currently using a non-GUI backend, \"\n"
     ]
    },
    {
     "data": {
      "text/plain": [
       "<matplotlib.figure.Figure at 0x7f3aa0982ef0>"
      ]
     },
     "metadata": {},
     "output_type": "display_data"
    }
   ],
   "source": [
    "from sklearn.ensemble import RandomForestRegressor\n",
    "import matplotlib.pyplot as plt\n",
    "\n",
    "#data = np.concatenate([data,data**2], axis=1)\n",
    "\n",
    "rf = RandomForestRegressor(n_estimators=100)\n",
    "rf = rf.fit( data, price )\n",
    "\n",
    "scores = cross_validation.cross_val_score(rf, data, price)\n",
    "print(\"scores =\",scores)\n",
    "print(\"avg accuracy = %4.2f\" % scores.mean())\n",
    "\n",
    "#loook at feature importance \n",
    "f, ax = plt.subplots(figsize=(10,4))\n",
    "f.clf()\n",
    "bar_placements = range(len(rf.feature_importances_))\n",
    "ax.bar(bar_placements, rf.feature_importances_)\n",
    "ax.set_title(\"Feature Importances\")\n",
    "ax.set_xticks([tick + .5 for tick in bar_placements])\n",
    "ax.set_xticklabels(features)\n",
    "\n",
    "f.show()"
   ]
  },
  {
   "cell_type": "code",
   "execution_count": 11,
   "metadata": {
    "collapsed": false
   },
   "outputs": [
    {
     "data": {
      "text/plain": [
       "array([ 0.12762342,  0.04933711,  0.04339905,  0.21993851,  0.22863875,\n",
       "        0.21900726,  0.11205591])"
      ]
     },
     "execution_count": 11,
     "metadata": {},
     "output_type": "execute_result"
    }
   ],
   "source": [
    "rf.feature_importances_"
   ]
  },
  {
   "cell_type": "code",
   "execution_count": 12,
   "metadata": {
    "collapsed": false
   },
   "outputs": [
    {
     "data": {
      "text/plain": [
       "['id',\n",
       " 'bedrooms',\n",
       " 'star_rating',\n",
       " 'person_capacity',\n",
       " 'lat',\n",
       " 'lng',\n",
       " 'reviews_count']"
      ]
     },
     "execution_count": 12,
     "metadata": {},
     "output_type": "execute_result"
    }
   ],
   "source": [
    "features"
   ]
  },
  {
   "cell_type": "code",
   "execution_count": 24,
   "metadata": {
    "collapsed": false
   },
   "outputs": [
    {
     "data": {
      "text/plain": [
       "array([  5.19300000e+03,   6.41624700e+06,   7.27858600e+06,\n",
       "         1.11064170e+07,   1.45957160e+07,   1.20268450e+07,\n",
       "         1.45523900e+07,   1.46125520e+07,   5.01834000e+05,\n",
       "         1.39969150e+07,   7.95295900e+06,   1.18290720e+07,\n",
       "         1.51107600e+06,   1.41855290e+07,   1.40914800e+07,\n",
       "         1.19921330e+07,   1.40138180e+07,   2.45964300e+06,\n",
       "         1.28059700e+06,   9.55071000e+05,   9.43566500e+06,\n",
       "         1.15167220e+07,   1.20268450e+07,   1.35601070e+07,\n",
       "         1.45958480e+07,   1.40589740e+07,   8.08485800e+06,\n",
       "         1.63317300e+06,   9.08080300e+06,   1.46125520e+07,\n",
       "         1.37329980e+07,   1.45957160e+07,   1.04121440e+07,\n",
       "         1.09304900e+07,   1.19921330e+07,   1.45351590e+07,\n",
       "         1.61878200e+06,   7.27866000e+05,   9.97382000e+05,\n",
       "         1.46125520e+07,   7.54710500e+06,   1.42233690e+07,\n",
       "         3.24140000e+04,   1.36410580e+07,   6.44948000e+05,\n",
       "         1.38014660e+07,   1.25220000e+04,   2.59251800e+06,\n",
       "         9.92687100e+06,   1.29515000e+05,   1.43695680e+07,\n",
       "         5.10730000e+04,   7.46292500e+06,   1.39969150e+07,\n",
       "         7.67988700e+06,   1.24056240e+07,   1.04121440e+07,\n",
       "         7.95254000e+05,   7.95295900e+06,   2.40040900e+06,\n",
       "         1.45354830e+07,   1.32198290e+07,   1.43217570e+07,\n",
       "         1.36250800e+07,   1.41855290e+07,   2.11550300e+06,\n",
       "         7.32984500e+06,   1.41105570e+07,   9.66647600e+06,\n",
       "         1.09308800e+06,   8.35638000e+06,   1.29329030e+07,\n",
       "         1.36589150e+07,   7.22270400e+06,   1.04744660e+07,\n",
       "         7.96506800e+06,   4.43230000e+04,   1.20268450e+07,\n",
       "         1.28462710e+07,   8.52029500e+06,   8.99258200e+06,\n",
       "         1.04374110e+07,   4.61476300e+06,   9.15459100e+06,\n",
       "         1.40914800e+07,   1.46401000e+07,   1.05467340e+07,\n",
       "         2.67728800e+06,   1.31919640e+07,   7.67988700e+06,\n",
       "         1.29052440e+07,   1.29719870e+07,   1.41871270e+07,\n",
       "         3.52165000e+05,   4.13520100e+06,   1.41474520e+07,\n",
       "         1.20231040e+07,   4.99096000e+05,   5.65051500e+06])"
      ]
     },
     "execution_count": 24,
     "metadata": {},
     "output_type": "execute_result"
    }
   ],
   "source": [
    "data[1:100,0]"
   ]
  },
  {
   "cell_type": "markdown",
   "metadata": {},
   "source": [
    "### Look at performance vs num_estimators "
   ]
  },
  {
   "cell_type": "code",
   "execution_count": 65,
   "metadata": {
    "collapsed": false
   },
   "outputs": [
    {
     "name": "stderr",
     "output_type": "stream",
     "text": [
      "/home/dan/anaconda3/lib/python3.5/site-packages/matplotlib/figure.py:397: UserWarning: matplotlib is currently using a non-GUI backend, so cannot show the figure\n",
      "  \"matplotlib is currently using a non-GUI backend, \"\n"
     ]
    },
    {
     "data": {
      "image/png": "[encoded data removed]",
      "text/plain": [
       "<matplotlib.figure.Figure at 0x7f327e1b1cf8>"
      ]
     },
     "metadata": {},
     "output_type": "display_data"
    }
   ],
   "source": [
    "from sklearn.learning_curve import validation_curve\n",
    "\n",
    "num_to_try = [1,10,50,100,250]\n",
    "train_scores, valid_scores = validation_curve(RandomForestRegressor(), \n",
    "                                              data, price, \n",
    "                                              \"n_estimators\",\n",
    "                                               num_to_try)\n",
    "\n",
    "f, ax = plt.subplots(figsize=(10,4))\n",
    "ax.semilogx(num_to_try, np.mean(valid_scores, axis=1),\"-*\")\n",
    "f.show()"
   ]
  },
  {
   "cell_type": "markdown",
   "metadata": {},
   "source": [
    "### grid search hyperparameters "
   ]
  },
  {
   "cell_type": "code",
   "execution_count": 52,
   "metadata": {
    "collapsed": false
   },
   "outputs": [
    {
     "data": {
      "text/plain": [
       "[mean: 0.89113, std: 0.09709, params: {'bootstrap': False, 'n_estimators': 100, 'max_features': 2, 'max_depth': 30, 'min_samples_split': 1, 'min_samples_leaf': 1}]"
      ]
     },
     "execution_count": 52,
     "metadata": {},
     "output_type": "execute_result"
    }
   ],
   "source": [
    "from sklearn.grid_search import GridSearchCV\n",
    "\n",
    "# use a full grid over all parameters\n",
    "param_grid = {\"n_estimators\" : [10,100],\n",
    "              \"max_depth\": [5,8,15,30,None],\n",
    "              \"max_features\": [2, None],\n",
    "              \"min_samples_split\": [1, 2, 5, 10, 100],\n",
    "              \"min_samples_leaf\": [1, 2, 5, 10],\n",
    "              \"bootstrap\": [True, False]}\n",
    " \n",
    "# run grid search\n",
    "grid_search = GridSearchCV(rf, param_grid=param_grid, n_jobs=-1)\n",
    "grid_search = grid_search.fit(data, price)\n",
    "\n",
    "sorted_scores = sorted(grid_search.grid_scores_, key=lambda k: k.mean_validation_score, reverse=True)"
   ]
  },
  {
   "cell_type": "code",
   "execution_count": 53,
   "metadata": {
    "collapsed": false
   },
   "outputs": [
    {
     "name": "stdout",
     "output_type": "stream",
     "text": [
      "[mean: 0.89199, std: 0.09522, params: {'bootstrap': False, 'n_estimators': 100, 'max_features': 2, 'max_depth': 30, 'min_samples_split': 5, 'min_samples_leaf': 1}, mean: 0.89113, std: 0.09709, params: {'bootstrap': False, 'n_estimators': 100, 'max_features': 2, 'max_depth': 30, 'min_samples_split': 1, 'min_samples_leaf': 1}]\n"
     ]
    }
   ],
   "source": [
    "print(sorted_scores[0:2])"
   ]
  },
  {
   "cell_type": "markdown",
   "metadata": {},
   "source": [
    "### Try SVM regressor "
   ]
  },
  {
   "cell_type": "code",
   "execution_count": 19,
   "metadata": {
    "collapsed": false
   },
   "outputs": [
    {
     "name": "stdout",
     "output_type": "stream",
     "text": [
      "scores = [ 0.23739951  0.33218491  0.27264137]\n",
      "avg accuracy = 0.28\n"
     ]
    }
   ],
   "source": [
    "from sklearn import svm\n",
    "clf = svm.SVR()\n",
    "clf.fit(data, price) \n",
    "scores = cross_validation.cross_val_score(clf, data, price)\n",
    "print(\"scores =\",scores)\n",
    "print(\"avg accuracy = %4.2f\" % scores.mean())"
   ]
  },
  {
   "cell_type": "markdown",
   "metadata": {},
   "source": [
    "### Try neural network "
   ]
  },
  {
   "cell_type": "code",
   "execution_count": 20,
   "metadata": {
    "collapsed": false
   },
   "outputs": [
    {
     "name": "stderr",
     "output_type": "stream",
     "text": [
      "Using Theano backend.\n"
     ]
    },
    {
     "name": "stdout",
     "output_type": "stream",
     "text": [
      "accuracy = 0.48 \n"
     ]
    }
   ],
   "source": [
    "from keras.models import Sequential\n",
    "from keras.layers import Dense\n",
    "from keras.wrappers.scikit_learn import KerasRegressor\n",
    "from sklearn.cross_validation import cross_val_score\n",
    "\n",
    "# define base mode\n",
    "def model():\n",
    "    # create model\n",
    "    model = Sequential()\n",
    "    model.add(Dense(60, input_dim=num_features, init='normal', activation='relu'))\n",
    "    model.add(Dense(20, init='normal', activation='relu'))\n",
    "    model.add(Dense(1, init='normal'))\n",
    "    # Compile model\n",
    "    model.compile(loss='mean_absolute_percentage_error', optimizer='adam')\n",
    "    return model\n",
    "\n",
    "# evaluate model with standardized dataset\n",
    "kr = KerasRegressor(build_fn=model, nb_epoch=100, batch_size=10, verbose=0)\n",
    "\n",
    "scores = cross_val_score(kr, data, price, cv=3)\n",
    "print(\"accuracy = %4.2f \" % ((100 - scores.mean())/100) )\n"
   ]
  },
  {
   "cell_type": "code",
   "execution_count": null,
   "metadata": {
    "collapsed": true
   },
   "outputs": [],
   "source": []
  }
 ],
 "metadata": {
  "anaconda-cloud": {},
  "kernelspec": {
   "display_name": "Python [conda root]",
   "language": "python",
   "name": "conda-root-py"
  },
  "language_info": {
   "codemirror_mode": {
    "name": "ipython",
    "version": 3
   },
   "file_extension": ".py",
   "mimetype": "text/x-python",
   "name": "python",
   "nbconvert_exporter": "python",
   "pygments_lexer": "ipython3",
   "version": "3.5.2"
  }
 },
 "nbformat": 4,
 "nbformat_minor": 0
}
